{
  "nbformat": 4,
  "nbformat_minor": 0,
  "metadata": {
    "colab": {
      "name": "MiniTest.ipynb",
      "provenance": [],
      "authorship_tag": "ABX9TyMkbh/KZHQmGKf54HJd8dU2",
      "include_colab_link": true
    },
    "kernelspec": {
      "name": "python3",
      "display_name": "Python 3"
    },
    "language_info": {
      "name": "python"
    }
  },
  "cells": [
    {
      "cell_type": "markdown",
      "metadata": {
        "id": "view-in-github",
        "colab_type": "text"
      },
      "source": [
        "<a href=\"https://colab.research.google.com/github/iremnurtasci/hu-bby162-2022/blob/main/MiniTest.ipynb\" target=\"_parent\"><img src=\"https://colab.research.google.com/assets/colab-badge.svg\" alt=\"Open In Colab\"/></a>"
      ]
    },
    {
      "cell_type": "code",
      "execution_count": 1,
      "metadata": {
        "colab": {
          "base_uri": "https://localhost:8080/"
        },
        "id": "oOuaabcqEgaG",
        "outputId": "593d8580-fe7d-4d7c-bc1f-517fcf008692"
      },
      "outputs": [
        {
          "output_type": "stream",
          "name": "stdout",
          "text": [
            "1.soru: 2+3=5\n",
            "Doğru bildiniz!\n",
            "2.soru: 5+7=12\n",
            "Doğru bildiniz!\n",
            "3.soru: 14-8=6\n",
            "Doğru bildiniz!\n",
            "4.soru: 4*4=16\n",
            "Doğru bildiniz!\n",
            "5.soru: 3/3=1\n",
            "Doğru bildiniz!\n",
            "10 puan aldınız. Tebrikler!\n"
          ]
        }
      ],
      "source": [
        "#Mini Teste Hoşgeldiniz!\n",
        "soruliste = [\"2+3=\", \"5+7=\", \"14-8=\", \"4*4=\", \"3/3=\"]\n",
        "cevapliste = [\"5\", \"12\", \"6\", \"16\", \"1\"]\n",
        "puan = 0\n",
        "\n",
        "soru = input(\"1.soru: \" + soruliste[0])\n",
        "if soru == cevapliste[0]: \n",
        "  print(\"Doğru bildiniz!\")\n",
        "elif soru != 5:\n",
        "  print(\"Yanlış cevap!\")\n",
        "puan += 2\n",
        "soru = input(\"2.soru: \" + soruliste[1])\n",
        "if soru == cevapliste[1]:\n",
        "  print(\"Doğru bildiniz!\")\n",
        "elif soru != 12:\n",
        "  print(\"Yanlış cevap!\")\n",
        "puan += 2\n",
        "soru = input(\"3.soru: \" + soruliste[2])\n",
        "if soru == cevapliste[2]:\n",
        "  print(\"Doğru bildiniz!\")\n",
        "elif soru != 6:\n",
        "  print(\"Yanlış cevap!\")\n",
        "puan += 2\n",
        "soru = input(\"4.soru: \" + soruliste[3])\n",
        "if soru == cevapliste[3]:\n",
        "  print(\"Doğru bildiniz!\")\n",
        "elif soru != 16:\n",
        "  print(\"Yanlış cevap!\")\n",
        "puan += 2\n",
        "soru = input(\"5.soru: \" + soruliste[4])\n",
        "if soru == cevapliste[4]:\n",
        "  print(\"Doğru bildiniz!\")\n",
        "elif soru != 1:\n",
        "  print(\"Yanlış cevap!\")\n",
        "puan += 2\n",
        "\n",
        "print(str(puan) + \" puan aldınız. Tebrikler!\") "
      ]
    }
  ]
}