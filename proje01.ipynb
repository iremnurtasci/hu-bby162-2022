{
  "nbformat": 4,
  "nbformat_minor": 0,
  "metadata": {
    "colab": {
      "name": "proje01.ipynb",
      "provenance": [],
      "collapsed_sections": [],
      "authorship_tag": "ABX9TyORERMA/hksoGKXHamjzo8i",
      "include_colab_link": true
    },
    "kernelspec": {
      "name": "python3",
      "display_name": "Python 3"
    },
    "language_info": {
      "name": "python"
    }
  },
  "cells": [
    {
      "cell_type": "markdown",
      "metadata": {
        "id": "view-in-github",
        "colab_type": "text"
      },
      "source": [
        "<a href=\"https://colab.research.google.com/github/iremnurtasci/hu-bby162-2022/blob/main/proje01.ipynb\" target=\"_parent\"><img src=\"https://colab.research.google.com/assets/colab-badge.svg\" alt=\"Open In Colab\"/></a>"
      ]
    },
    {
      "cell_type": "code",
      "execution_count": 59,
      "metadata": {
        "colab": {
          "base_uri": "https://localhost:8080/"
        },
        "id": "79zbOydSkAWb",
        "outputId": "4fc0f187-6b19-4cde-f2ff-d9f681efb2a8"
      },
      "outputs": [
        {
          "output_type": "stream",
          "name": "stdout",
          "text": [
            "\n",
            "İndeks numarasınız giriniz: abc\n",
            "Lütfen yalnızca rakam giriniz.\n",
            "\n",
            "İndeks numarasınız giriniz: 2\n",
            "Rakam girildi.\n",
            "leopar\n"
          ]
        }
      ],
      "source": [
        "liste = [\"tavşan\", \"marul\", \"leopar\", \"salam\", \"demir\", \"tahta\"]\n",
        "while True:\n",
        "  try:\n",
        "    print()\n",
        "    secim = int(input(\"İndeks numarasınız giriniz: \"))\n",
        "  except ValueError: #TypeError neden olmuyor?\n",
        "        print(\"Lütfen yalnızca rakam giriniz.\")\n",
        "        continue\n",
        "  else:\n",
        "        print(\"Rakam girildi.\")\n",
        "        break\n",
        "listeToplam = len(liste)\n",
        "if secim < listeToplam:\n",
        "  print(liste[secim])\n",
        "else:\n",
        "  print(\"İndeks dışı giriş..!\")\n",
        "      \n",
        "\n"
      ]
    }
  ]
}