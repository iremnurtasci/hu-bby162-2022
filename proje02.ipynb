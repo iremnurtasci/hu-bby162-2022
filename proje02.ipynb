{
  "nbformat": 4,
  "nbformat_minor": 0,
  "metadata": {
    "colab": {
      "name": "proje02.ipynb",
      "provenance": [],
      "collapsed_sections": [],
      "authorship_tag": "ABX9TyN/e1gclNI2t6V+8ewLkRGr",
      "include_colab_link": true
    },
    "kernelspec": {
      "name": "python3",
      "display_name": "Python 3"
    },
    "language_info": {
      "name": "python"
    }
  },
  "cells": [
    {
      "cell_type": "markdown",
      "metadata": {
        "id": "view-in-github",
        "colab_type": "text"
      },
      "source": [
        "<a href=\"https://colab.research.google.com/github/iremnurtasci/hu-bby162-2022/blob/main/proje02.ipynb\" target=\"_parent\"><img src=\"https://colab.research.google.com/assets/colab-badge.svg\" alt=\"Open In Colab\"/></a>"
      ]
    },
    {
      "cell_type": "code",
      "source": [
        "#Fonksiyonlu Adam Asmaca Oyunu\n",
        "print(\"Adam Asmaca Oyununa Hoş Geldiniz, Bol Şanslar!\")\n",
        "from random import choice\n",
        "seviye = True\n",
        "while seviye:\n",
        "  print(\"\"\"\n",
        "  1.Basit\n",
        "  2.Orta\n",
        "  3.İleri\n",
        "  4.Çıkış\n",
        "  \"\"\")\n",
        "\n",
        "  seviye = input(\"Lütfen bir seviye seçiniz: \")\n",
        "  if seviye == \"1\":\n",
        "    adamhak = 10\n",
        "    a=\"Basit seviye\"\n",
        "    print(a+\" seçildi. \")\n",
        "    sorular = {\"şair\": \"Ozan kelimesinin eş anlamlısı\", \"kova\": \"Bir burç\", \"bal\": \"Şekerli, tatlı bir şey\", \"merak\": \"İçten gelen bir istek\"}\n",
        "    secilensoru = choice(list(sorular.keys()))\n",
        "  elif seviye == \"2\":\n",
        "    adamhak = 5\n",
        "    a=\"Orta seviye\"\n",
        "    print(a+\" seçildi. \")\n",
        "    sorular = {\"voleybol\": \"Bir takım sporu\", \"balıkesir\": \"Bir ilimiz\", \"pantolon\": \"Bir tür kıyafet\", \"haziran\": \"12 aydan biri\"}\n",
        "    secilensoru = choice(list(sorular.keys()))\n",
        "  elif seviye == \"3\":\n",
        "    adamhak = 3\n",
        "    a=\"Zor seviye\"\n",
        "    print(a+\" seçildi. \")\n",
        "    sorular = {\"mezopotamya\": \"İlk uygarlıkların olduğu yer\", \"sanatoryum\": \"Bir sağlık kuruluşu\", \"kapitülasyon\": \"Yabancılara verilen ayrıcalık\", \"binaenaleyh\": \"Bundan dolayı anlamında kullanılan kelime\"}\n",
        "    secilensoru = choice(list(sorular.keys()))\n",
        "    \n",
        "  elif seviye == \"4\":\n",
        "    print(\"Çıkış yaptınız.\") \n",
        "    seviye = None\n",
        "  break\n",
        "else:\n",
        "    print(\"Lütfen bir seviye seçebilmek için 1-4 arasında rakam giriniz.\")\n",
        "\n",
        "\n",
        "from random import choice\n",
        "\n",
        "print(\"İşte \"+ a + \"den bir soru:\")\n",
        "print(\"İpucu: \" + sorular[secilensoru])\n",
        "dizilenkelime = []\n",
        "for diz in secilensoru:\n",
        "  dizilenkelime.append(\"_\")\n",
        "print(dizilenkelime)\n",
        "while adamhak >= 0:\n",
        "  girilenharf = input(\"Bir harf giriniz: \")\n",
        "  hakKontrol = girilenharf in secilensoru\n",
        "  if hakKontrol == False:\n",
        "    adamhak -=1\n",
        "  i = 0\n",
        "  for kontrol in secilensoru:\n",
        "    if secilensoru[i] == girilenharf:\n",
        "      dizilenkelime[i] = girilenharf\n",
        "    i += 1\n",
        "  print(dizilenkelime)\n",
        "  print(\"Kalan hak: \" + str(adamhak))\n",
        "\n",
        "\n"
      ],
      "metadata": {
        "id": "yymVLyfBmMmE"
      },
      "execution_count": null,
      "outputs": []
    }
  ]
}