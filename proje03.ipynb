{
  "nbformat": 4,
  "nbformat_minor": 0,
  "metadata": {
    "colab": {
      "name": "proje03.ipynb",
      "provenance": [],
      "authorship_tag": "ABX9TyO1unZI7sGQCKcxRJeQpUFc",
      "include_colab_link": true
    },
    "kernelspec": {
      "name": "python3",
      "display_name": "Python 3"
    },
    "language_info": {
      "name": "python"
    }
  },
  "cells": [
    {
      "cell_type": "markdown",
      "metadata": {
        "id": "view-in-github",
        "colab_type": "text"
      },
      "source": [
        "<a href=\"https://colab.research.google.com/github/iremnurtasci/hu-bby162-2022/blob/main/proje03.ipynb\" target=\"_parent\"><img src=\"https://colab.research.google.com/assets/colab-badge.svg\" alt=\"Open In Colab\"/></a>"
      ]
    },
    {
      "cell_type": "code",
      "execution_count": 6,
      "metadata": {
        "id": "P-YGBRVx-mqe",
        "colab": {
          "base_uri": "https://localhost:8080/"
        },
        "outputId": "78dda8f5-e059-4416-c5c8-3b222850c8d1"
      },
      "outputs": [
        {
          "output_type": "stream",
          "name": "stdout",
          "text": [
            "-------------Mini Teste Hoş Geldiniz---------------\n",
            "Mini test 5 coğrafya sorusundan oluşmaktadır.\n",
            "Evet ya da Hayır cevaplarından oluşan bu test 100 puan üzerinden hesaplanacaktır.\n",
            "Her sorunun cevaplama süresi 10 saniyedir.\n",
            "İyi şanslar!\n",
            "Adınız Soyadınız: irem\n",
            "1. soru : Türkiye'nin başkenti İstanbul'dur.\n",
            "-evet ya da hayır\n",
            "Cevap: hayır\n",
            "Doğru cevap!\n",
            "2. soru : Dünya'da 7 kıta vardır.\n",
            "-evet ya da hayır\n",
            "Cevap: evet\n",
            "Doğru cevap!\n",
            "3. soru : Türkiye'nin kullandığı saat dilimi GMT -03:00'tür\n",
            "-evet ya da hayır\n",
            "Cevap: hayır\n",
            "Doğru cevap!\n",
            "4. soru : Dünya'nın en büyük gölü Baykal'dır.\n",
            "-evet ya da hayır\n",
            "Cevap: evet\n",
            "Yanlış cevap!\n",
            "5. soru : Ekinoks tarihleri 21 Aralık ve 21 Haziran'dır.\n",
            "-evet ya da hayır\n",
            "Cevap: hayır\n",
            "Doğru cevap!\n",
            "Doğru Cevaplar: hayır evet hayır hayır hayır \n",
            "Sizin Cevaplarınız: hayır evet hayır evet hayır \n",
            "Aldığınız puan: 80\n",
            "Tebrikler, testi geçtiniz!\n"
          ]
        }
      ],
      "source": [
        "print(\"-------------Mini Teste Hoş Geldiniz---------------\")\n",
        "print(\"Mini test 5 coğrafya sorusundan oluşmaktadır.\" )\n",
        "print(\"Evet ya da Hayır cevaplarından oluşan bu test 100 puan üzerinden hesaplanacaktır.\")\n",
        "print(\"Her sorunun cevaplama süresi 10 saniyedir.\")\n",
        "print(\"İyi şanslar!\")\n",
        "input(\"Adınız Soyadınız: \")\n",
        "\n",
        "\n",
        "def test():\n",
        "  tahminler = []\n",
        "  dogruCevap = 0\n",
        "  soruSayisi = 0\n",
        "  for key in sorusozluk:\n",
        "    print(key)\n",
        "    for i in secenek[soruSayisi-1]:\n",
        "      print(i)\n",
        "    tahmin = input(\"Cevap: \")\n",
        "    tahmin.upper()\n",
        "    tahminler.append(tahmin)\n",
        "    \n",
        "    dogruCevap += kontrol_et(sorusozluk.get(key), tahmin)\n",
        "    soruSayisi += 1\n",
        "  puan(dogruCevap, tahminler)\n",
        "\n",
        "    \n",
        "def kontrol_et(cevap, tahmin):\n",
        "  if cevap == tahmin:\n",
        "    print(\"Doğru cevap!\")\n",
        "    return 1\n",
        "  else:\n",
        "    print(\"Yanlış cevap!\")\n",
        "    return 0\n",
        "  \n",
        "\n",
        "def puan(dogruCevap, tahminler):\n",
        "  print(\"Doğru Cevaplar:\", end=\" \")\n",
        "  for i in sorusozluk:\n",
        "    print(sorusozluk.get(i), end =\" \")\n",
        "  print()\n",
        "\n",
        "  print(\"Sizin Cevaplarınız:\", end=\" \")\n",
        "  for i in tahminler:\n",
        "    print(i, end=\" \")\n",
        "  print()\n",
        "\n",
        "  sonuc = int((dogruCevap/len(sorusozluk))*100)\n",
        "  print(\"Aldığınız puan: \"+ str(sonuc))\n",
        "\n",
        "  if sonuc >= 60:\n",
        "    print(\"Tebrikler, testi geçtiniz!\")\n",
        "\n",
        "  else:\n",
        "    print(\"Testi geçemediniz\")\n",
        "    yeniden = input(\"Testi tekrar çözmek ister misiniz? Lütfen evet ya da hayır giriniz. \" )\n",
        "    yeniden = yeniden.lower()    \n",
        "    if yeniden == \"evet\":\n",
        "      test()\n",
        "    else:\n",
        "      print(\"Test bitti.\")\n",
        "\n",
        "\n",
        "sorusozluk = {\"1. soru : Türkiye'nin başkenti İstanbul'dur.\" : \"hayır\",\n",
        "              \"2. soru : Dünya'da 7 kıta vardır.\": \"evet\",\n",
        "              \"3. soru : Türkiye'nin kullandığı saat dilimi GMT -03:00'tür\" : \"hayır\",\n",
        "              \"4. soru : Dünya'nın en büyük gölü Baykal'dır.\" : \"hayır\",\n",
        "              \"5. soru : Ekinoks tarihleri 21 Aralık ve 21 Haziran'dır.\" : \"hayır\"\n",
        "}\n",
        "secenek = [[\"-evet ya da hayır\"],[\"-evet ya da hayır\"],[\"-evet ya da hayır\"],[\"-evet ya da hayır\"],[\"-evet ya da hayır\"]]\n",
        "\n",
        "test()\n",
        "\n"
      ]
    }
  ]
}